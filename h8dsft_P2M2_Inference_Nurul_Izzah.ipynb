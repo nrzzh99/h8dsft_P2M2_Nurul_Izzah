{
  "nbformat": 4,
  "nbformat_minor": 0,
  "metadata": {
    "colab": {
      "provenance": []
    },
    "kernelspec": {
      "name": "python3",
      "display_name": "Python 3"
    },
    "language_info": {
      "name": "python"
    }
  },
  "cells": [
    {
      "cell_type": "markdown",
      "source": [
        "#Model Inference"
      ],
      "metadata": {
        "id": "6gHwb-M1caQ6"
      }
    },
    {
      "cell_type": "markdown",
      "source": [
        "##Import Libraries"
      ],
      "metadata": {
        "id": "yNpviftYcifh"
      }
    },
    {
      "cell_type": "code",
      "execution_count": 64,
      "metadata": {
        "id": "d85sNzyscBQA"
      },
      "outputs": [],
      "source": [
        "#import libraries\n",
        "import tensorflow as tf\n",
        "import numpy as np\n",
        "import cv2\n",
        "from PIL import Image\n",
        "\n",
        "from tensorflow import keras\n",
        "from keras.models import load_model"
      ]
    },
    {
      "cell_type": "markdown",
      "source": [
        "##Load data"
      ],
      "metadata": {
        "id": "S90rLgmIcpLH"
      }
    },
    {
      "cell_type": "code",
      "source": [
        "#load model functional\n",
        "model_ann = load_model('/content/tumor_dataset_model.h5')"
      ],
      "metadata": {
        "id": "JTmd3JHVcoeC"
      },
      "execution_count": 42,
      "outputs": []
    },
    {
      "cell_type": "code",
      "source": [
        "# Load the image baru untuk prediksi\n",
        "img_data = cv2.imread('/content/diagnostic.jpg')"
      ],
      "metadata": {
        "id": "mEMwbeMI2LMb"
      },
      "execution_count": 68,
      "outputs": []
    },
    {
      "cell_type": "code",
      "source": [
        "# mengatur dimensi gambar yang diharapkan\n",
        "img_height = 224\n",
        "img_width = 224"
      ],
      "metadata": {
        "id": "1rEAtdw9-HAt"
      },
      "execution_count": 69,
      "outputs": []
    },
    {
      "cell_type": "code",
      "source": [
        "# Resize image dan ubah ke format array\n",
        "img_data = cv2.resize(img_data, (img_height, img_width))\n",
        "img_data = img_data.astype('float32') / 255\n",
        "x = np.expand_dims(img_data, axis=0)"
      ],
      "metadata": {
        "id": "FsWTzVh_-H_Z"
      },
      "execution_count": 70,
      "outputs": []
    },
    {
      "cell_type": "code",
      "source": [
        "# melakukan prediksi\n",
        "classes = model_ann.predict(x)\n",
        "\n",
        "# melihat hasil prediksi\n",
        "if classes[0][0] > classes[0][1]:\n",
        "    print('Label: Non Tumor Detection')\n",
        "else:\n",
        "    print('Label: Tumor Detection')"
      ],
      "metadata": {
        "colab": {
          "base_uri": "https://localhost:8080/"
        },
        "id": "UKJm0AZ2-Muy",
        "outputId": "3b1ee392-6e46-4860-de57-116efc2e9ac8"
      },
      "execution_count": 71,
      "outputs": [
        {
          "output_type": "stream",
          "name": "stdout",
          "text": [
            "1/1 [==============================] - 1s 723ms/step\n",
            "Label: Non Tumor Detection\n"
          ]
        }
      ]
    },
    {
      "cell_type": "markdown",
      "source": [
        "# Pengambilan Kesimpulan"
      ],
      "metadata": {
        "id": "PU9D5pLqA3bl"
      }
    },
    {
      "cell_type": "markdown",
      "source": [
        "dari keseluruhan data, data gambar untuk tumor adalah 155 gambar dan non tumor memiliki 98 gambar, yg berarti datanya imbalance\n",
        "\n",
        "gambar \"Y66.JPG\"(diambil dari data yg terdeteksi ada tumornya) memiliki ukuran rata-rata sekitar 314 piksel dengan standar deviasi sekitar 26 piksel. Ukuran minimal gambar ini adalah 288 piksel dan ukuran maksimal gambar adalah 340 piksel\n",
        "\n",
        "Selain itu, memiliki rata-rata nilai piksel sekitar 60.51 dengan standar deviasi sekitar 61.14. Nilai piksel minimal pada gambar adalah 0, sedangkan nilai piksel maksimal adalah 251\n",
        "\n",
        "pada anilai kecerahan memiliki rata-rata sekitar 60.51 dengan standar deviasi sekitar 61.14. Nilai kecerahan minimal pada gambar adalah 0, sedangkan nilai kecerahan maksimal adalah 251\n",
        "\n",
        "Ukuran gambar dari \"no 6.jpg\"(diambil dari data gambar yg terdeteksi tidak tumor) memiliki rata-rata 225, standar deviasi 11, nilai minimum 214, dan nilai maksimum 236. Nilai piksel memiliki rata-rata 69.169, standar deviasi 58.113, nilai minimum 0, dan nilai maksimum 255. Pencerahan gambar memiliki rata-rata 69.169, standar deviasi 58.113, nilai minimum 0, dan nilai maksimum 255\n",
        "\n",
        "setelah dilakukan training dan improvement model menggunakan ANN Sequential API dan Functional API, model terbaik adalah menggunakan Functional API karena model functional setelah di improvement memiliki nilai loss sebesar 15.8547 dan akurasi sebesar 0.8824 pada saat diuji dengan data testing.\n",
        "\n",
        "setelah dilakukan cross validasi menggunakan K-fold  model memiliki variasi performa yang cukup besar pada setiap fold. Fold pertama memiliki akurasi 70%, sedangkan fold kedua memiliki akurasi sekitar 83%, pada fold ketiga memiliki akurasi 82.5%, di fold keempat memiliki akurasi 85% dan yg ke 5 memiliki akurasi yg tinggi yaitu 90%.\n",
        "\n",
        "Kesimpulannya, model memiliki performa yang bervariasi pada setiap fold, namun secara keseluruhan model cukup baik dalam melakukan klasifikasi dengan rata-rata akurasi 81.94% (+/- 6.41%)\n",
        "\n",
        "Secara kelebihan, model dapat memprediksi gambar baru dengan benar sekitar 76.2%, ini cukup baik untuk mengetahui apakah digambarnya terdapat tumor atau tidak.\n",
        "\n",
        "kelemahannya, model bisa saja salah memprediksi, karena datanya imbalance, diperlukan data lebih benyak agar model dapat memprediksi dengan baik\n",
        "\n"
      ],
      "metadata": {
        "id": "JDQQVgm-A59_"
      }
    },
    {
      "cell_type": "markdown",
      "source": [
        "#Jawaban"
      ],
      "metadata": {
        "id": "v_Vs2Ie4DW1k"
      }
    },
    {
      "cell_type": "markdown",
      "source": [
        "1. Dapatkah Student menjelaskan alasan suatu teknik preprocessing dipilih ?\n",
        "\n",
        "teknik pre prosessing yg digunakan adalah melakukan resize pada gambar agar ukurannya menjadi seragam agar model lebih mudah dan efektif dalam mengenali pola pada gambar yang memiliki ukuran yang sama dan teknik kedua menggunakan augmentasi gambar menggunakan ImageDataGenerator dengan cara merotasi, zoom, pergeseran, dan flip pada gambar secara acak\n",
        "\n",
        "2. Dapatkah Student menjelaskan arsitektur yang dirancang, baik dari segi jumlah layer, jumlah neuron, dll ?\n",
        "\n",
        "- Arsitektur yang dirancang pada saat model traning menggunakan sequential API, terdiri dari 6 layer. Pertama, layer Conv2D dengan 32 filter, kernel_size 3x3, dan activation ReLU. Input_shape yang digunakan adalah (224, 224, 3) yang sesuai dengan dimensi gambar. Setelah itu dilanjutkan dengan layer MaxPooling2D dengan pool_size 2x2. Kemudian, dilakukan layer Conv2D kembali dengan 64 filter dan kernel_size 3x3, serta activation ReLU. Setelah itu dilakukan layer MaxPooling2D lagi dengan pool_size 2x2. Layer selanjutnya adalah Flatten untuk mengubah output dari layer sebelumnya menjadi satu dimensi. Setelah itu, dilakukan layer Dense dengan 128 neuron dan activation ReLU, dan diakhiri dengan layer Dense dengan 2 neuron dan activation softmax untuk output dan jumlah neuron pada layer Dense sebanyak 128. menggunakan 32 batch size dan 32 epoch.\n",
        "\n",
        "\n",
        "- sedangkan pada saat improvement menggunakan ImageDataGenerator untuk melakukan augmentasi data pada gambar, seperti rotasi, pergeseran, dan flipping, untuk meningkatkan jumlah data pelatihan yang tersedia dan mencegah overfitting, VGG16 pre-trained layer untuk melakukan transfer learning, menggunakan flatten layer untuk mengubah output dari VGG16, menggunakan dense layer 512 neuron dan fungsi aktivasi ReLU. menggunakan dropout rate 0.5, dan dense layer output 2 dengan aktivasi softmax. menggunakan generator data (datagen) dan 60 epoch.\n",
        "\n",
        "\n",
        "- Arsitektur model yang dirancang pada saat training menggunakan Functional API, menggunakan ImageDataGenerator untuk melakukan augmentasi data pada gambar, seperti rotasi, pergeseran, dan flipping, Menggunakan VGG16 untuk transfer learning, Layer Flatten digunakan untuk meratakan output dari VGG16, menggunakan layer Dense  512 neuron dan fungsi aktivasi relu, lalu layer Dropout dengan nilai dropout 0.5. Layer Dense dengan 256 neuron dan fungsi aktivasi relu, layer Dense dengan 2 neuron dan fungsi aktivasi softmax untuk output layer, menggunakan generator data (datagen) dan 60 epoch.\n",
        "\n",
        "\n",
        "- sedangkan pada saat improvement menggunakan input layer ukuran 224x224 dan 3 channel, menggunakan transfer learning VGG16, flatten layer untuk meratakan output dari lapisan konvolusi menjadi input untuk lapisan fully connected, dense layer dengan 512 neuron dan fungsi aktivasi ReLU, layer ke 2 menggunakan 256 neuron dan fungsi aktivasi ReLU dan 2 dense layer untuk output\n",
        "\n",
        "3.  Apa maksud dari performansi yang didapatkan baik saat training maupun testing ?\n",
        "\n",
        "- Pada model sequential API, terdapat perbedaan performansi antara model saat training dan testing. Pada saat training, model mencapai akurasi sebesar 0.7458 dan loss sebesar 0.6061, sementara pada saat testing, model mencapai akurasi sebesar 0.7119 dan loss sebesar 1.1559 setelah dilakukan improvement. Perbedaan performansi ini menunjukkan model cenderung mengalami overfitting\n",
        "\n",
        "- pada model functional API, memiliki performansi yang sama baiknya pada saat training dan testing. Pada saat training, model mencapai akurasi sebesar 0.7627 dan loss sebesar 6.7943, sedangkan pada saat testing, model juga mencapai akurasi sebesar 0.7627 dan loss sebesar 6.7943 setelah dilakukan improvement. Perbedaan yang kecil antara performansi saat training dan testing menunjukkan model tidak mengalami overfitting dan mampu melakukan generalisasi ke data yang belum pernah dilihat sebelumnya\n",
        "\n",
        "4. Dapatkah Student menjelaskan data seperti apa yang akan diprediksi salah oleh model?\n",
        "\n",
        "- kalau dalam kasus computer vision, data yg tidak berkaitan dengan dataset, misalnya tumor di bagian tubuh yg lain, ataupun data X-ray tubuh bagian lain, misalnya paru-paru\n",
        "\n",
        "5. Jika menggunakan transfer learning, mengapa algoritma tersebut yang dipilih ? Apa keistimewaannya ? Darimana landasannya ?\n",
        "\n",
        "menggunakan transfer learning VGG16 karena memiliki performansi yang baik dalam mengklasifikasikan gambar pada dataset.\n",
        "\n",
        "source : https://www.researchgate.net/publication/369025324_Transfer_learning_pada_Network_VGG16_dan_ResNet50\n",
        "\n",
        "\n"
      ],
      "metadata": {
        "id": "0KzqRoJnEzlY"
      }
    },
    {
      "cell_type": "code",
      "source": [],
      "metadata": {
        "id": "rtwT1gH2zZDT"
      },
      "execution_count": null,
      "outputs": []
    }
  ]
}